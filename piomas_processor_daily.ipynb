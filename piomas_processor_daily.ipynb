{
 "cells": [
  {
   "cell_type": "markdown",
   "metadata": {},
   "source": [
    "# Convert DAILY PIOMAS binaries to netcdf for ease of use\n",
    "\n",
    "* **Description**: Reads in binaries and creates netcdfs from daily PIOMAS Data\n",
    "* **Input data**: Piomas binaries\n",
    "* **Output data**: Netcdf\n",
    "* **Creator**: Alice DuVivier\n",
    "* **Date**: October 2022\n",
    "\n",
    "Data downloaded here:\n",
    "https://psc.apl.uw.edu/research/projects/arctic-sea-ice-volume-anomaly/data/model_grid\n",
    "\n",
    "Based on Robbie Mallett's code:\n",
    "https://github.com/robbiemallett/piomas_bin_reader"
   ]
  },
  {
   "cell_type": "code",
   "execution_count": 1,
   "metadata": {},
   "outputs": [],
   "source": [
    "import numpy as np\n",
    "import pandas as pd\n",
    "import struct\n",
    "import xarray as xr\n",
    "import matplotlib.pyplot as plt"
   ]
  },
  {
   "cell_type": "markdown",
   "metadata": {},
   "source": [
    "## Read Grid\n",
    "\n",
    "- Downloaded grid.dat from PIOMAS website. Then had to divide it into half for the lat and lon values\n",
    "- 8640 lines, so divide at line 4320 (Searched for 318.79)"
   ]
  },
  {
   "cell_type": "code",
   "execution_count": 2,
   "metadata": {},
   "outputs": [],
   "source": [
    "grids = {}\n",
    "\n",
    "dims = (120,360)\n",
    "\n",
    "for i in ['lon','lat']:\n",
    "\n",
    "    grid = np.array(pd.read_csv(f'grids/{i}grid.dat',\n",
    "                                header=None,\n",
    "                                delim_whitespace=True))\n",
    "\n",
    "    flat_grid = grid.ravel()\n",
    "    \n",
    "#     if i == 'lon':\n",
    "\n",
    "    shaped_grid = flat_grid.reshape(dims)\n",
    "        \n",
    "#     else:\n",
    "        \n",
    "#         shaped_grid = flat_grid.reshape((360,120))\n",
    "    \n",
    "    grids[i] = shaped_grid"
   ]
  },
  {
   "cell_type": "code",
   "execution_count": 3,
   "metadata": {},
   "outputs": [
    {
     "data": {
      "text/plain": [
       "{'lon': array([[319.5 , 320.5 , 321.5 , ..., 316.5 , 317.5 , 318.5 ],\n",
       "        [319.5 , 320.5 , 321.5 , ..., 316.5 , 317.5 , 318.5 ],\n",
       "        [319.5 , 320.5 , 321.5 , ..., 316.5 , 317.5 , 318.5 ],\n",
       "        ...,\n",
       "        [319.23, 319.67, 320.12, ..., 317.88, 318.33, 318.77],\n",
       "        [319.22, 319.66, 320.09, ..., 317.91, 318.34, 318.78],\n",
       "        [319.21, 319.64, 320.06, ..., 317.94, 318.36, 318.79]]),\n",
       " 'lat': array([[48.99, 48.99, 48.99, ..., 48.99, 48.99, 48.99],\n",
       "        [49.59, 49.59, 49.59, ..., 49.59, 49.59, 49.59],\n",
       "        [50.15, 50.15, 50.15, ..., 50.15, 50.15, 50.15],\n",
       "        ...,\n",
       "        [72.44, 72.44, 72.44, ..., 72.44, 72.44, 72.44],\n",
       "        [72.57, 72.57, 72.58, ..., 72.58, 72.57, 72.57],\n",
       "        [72.71, 72.71, 72.71, ..., 72.71, 72.71, 72.71]])}"
      ]
     },
     "execution_count": 3,
     "metadata": {},
     "output_type": "execute_result"
    }
   ],
   "source": [
    "grids"
   ]
  },
  {
   "cell_type": "markdown",
   "metadata": {},
   "source": [
    "## Define Function to process PIOMAS binaries\n",
    "\n",
    "- Note that these are no-leap years, so each year has only 365 days"
   ]
  },
  {
   "cell_type": "code",
   "execution_count": 4,
   "metadata": {},
   "outputs": [],
   "source": [
    "def process_piomas(year):\n",
    "    \n",
    "    binary_dir = f'binaries_daily/hiday.H{year}'\n",
    "    \n",
    "    ############################################################\n",
    "    \n",
    "    # Read File\n",
    "    \n",
    "    with open(binary_dir, mode='rb') as file:\n",
    "    \n",
    "        fileContent = file.read()\n",
    "        data = struct.unpack(\"f\" * (len(fileContent)// 4), fileContent)\n",
    "        \n",
    "    ############################################################\n",
    "    \n",
    "    # Put it in a 3D array\n",
    "        \n",
    "        native_data = np.full((365,dims[0],dims[1]),np.nan)\n",
    "\n",
    "        for day in range(1,366):\n",
    "            #print(day)\n",
    "            \n",
    "            start = (day-1)*(dims[0]*dims[1])\n",
    "            end = day*(dims[0]*dims[1])\n",
    "            thickness_list = np.array(data[start:end])\n",
    "            \n",
    "            gridded = thickness_list.reshape(dims[0],dims[1])\n",
    "            native_data[day-1,:,:] = gridded\n",
    "\n",
    "            #plt.imshow(gridded)\n",
    "            \n",
    "            #break\n",
    "            \n",
    "          \n",
    "    ############################################################\n",
    "        \n",
    "    # Output to NetCDF4\n",
    "        \n",
    "        ds = xr.Dataset( data_vars={'thickness':(['t','x','y'],native_data)},\n",
    "\n",
    "                         coords =  {'longitude':(['x','y'],grids['lon']),\n",
    "                                    'latitude':(['x','y'],grids['lat']),\n",
    "                                    'day':(['t'],np.array(range(1,366)))})\n",
    "        \n",
    "        ds.attrs['data_name'] = 'Daily mean Piomas sea ice thickness data'\n",
    "        \n",
    "        ds.attrs['description'] = \"\"\"Sea ice thickness in meters on the native 360x120 grid, \n",
    "                                    data produced by University of Washington Polar Science Center\"\"\"\n",
    "        \n",
    "        ds.attrs['year'] = f\"\"\"These data are for the year {year}\"\"\"\n",
    "        \n",
    "        ds.attrs['citation'] = \"\"\"When using this data please use the citation: \n",
    "                                Zhang, Jinlun and D.A. Rothrock: Modeling global sea \n",
    "                                ice with a thickness and enthalpy distribution model \n",
    "                                in generalized curvilinear coordinates,\n",
    "                                Mon. Wea. Rev. 131(5), 681-697, 2003.\"\"\"\n",
    "        \n",
    "        ds.attrs['code to read'] = \"\"\"  # Example code to read a month of this data \n",
    "    \n",
    "                                        def read_month_of_piomas(year,month): \n",
    "    \n",
    "                                            data_dir = 'output/' \n",
    "\n",
    "                                            with xr.open_dataset(f'{data_dir}{year}.nc') as data: \n",
    "\n",
    "                                                ds_month = data.where(int(month) == data.month, drop =True) \n",
    "\n",
    "                                                return(ds_month)\"\"\"\n",
    "        \n",
    "        ds.attrs['python author'] = \"\"\"Alice DuVivier made the file based off Robbie Mallett's python code. If there's a problem with it, \n",
    "                                        email him at robbie.mallett.17@ucl.ac.uk\"\"\"\n",
    "                                \n",
    "        \n",
    "        \n",
    "\n",
    "        output_dir = f'output/'\n",
    "        \n",
    "        fout = 'piomas_daily_'+str(year)\n",
    "\n",
    "        ds.to_netcdf(f'{output_dir}{fout}.nc','w')\n",
    "\n",
    "    return native_data"
   ]
  },
  {
   "cell_type": "markdown",
   "metadata": {},
   "source": [
    "## Run the processor"
   ]
  },
  {
   "cell_type": "code",
   "execution_count": 6,
   "metadata": {},
   "outputs": [],
   "source": [
    "for year in range(1979,2022):\n",
    "    \n",
    "    x = process_piomas(year)"
   ]
  },
  {
   "cell_type": "code",
   "execution_count": null,
   "metadata": {},
   "outputs": [],
   "source": []
  }
 ],
 "metadata": {
  "kernelspec": {
   "display_name": "Python [conda env:miniconda3-analysis2]",
   "language": "python",
   "name": "conda-env-miniconda3-analysis2-py"
  },
  "language_info": {
   "codemirror_mode": {
    "name": "ipython",
    "version": 3
   },
   "file_extension": ".py",
   "mimetype": "text/x-python",
   "name": "python",
   "nbconvert_exporter": "python",
   "pygments_lexer": "ipython3",
   "version": "3.7.12"
  }
 },
 "nbformat": 4,
 "nbformat_minor": 4
}
